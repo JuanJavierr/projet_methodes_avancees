{
 "cells": [
  {
   "cell_type": "code",
   "execution_count": 1,
   "metadata": {},
   "outputs": [],
   "source": [
    "from sklearn.model_selection import train_test_split\n",
    "from sklearn import tree\n",
    "from sklearn.preprocessing import OneHotEncoder, StandardScaler\n",
    "import pandas as pd\n",
    "from matplotlib import pyplot as plt\n",
    "import numpy as np\n",
    "import utils\n",
    "import xgboost"
   ]
  },
  {
   "cell_type": "code",
   "execution_count": 10,
   "metadata": {},
   "outputs": [],
   "source": [
    "label_col = \"acc\"\n",
    "\n",
    "df = utils.load_data(label_col)\n",
    "df = utils.prepare_data(df)\n",
    "X_train, y_train, X_val, y_val, X_test, y_test = utils.split_data(df, label_col, include_val=True)"
   ]
  },
  {
   "cell_type": "code",
   "execution_count": 11,
   "metadata": {},
   "outputs": [
    {
     "data": {
      "text/plain": [
       "-0.19320543710721938"
      ]
     },
     "execution_count": 11,
     "metadata": {},
     "output_type": "execute_result"
    }
   ],
   "source": [
    "model = tree.DecisionTreeRegressor()\n",
    "model.fit(X_train, y_train)\n",
    "model.score(X_test, y_test)"
   ]
  },
  {
   "cell_type": "code",
   "execution_count": 12,
   "metadata": {},
   "outputs": [
    {
     "name": "stdout",
     "output_type": "stream",
     "text": [
      "[0]\tvalidation_0-rmse:0.88731\n",
      "[1]\tvalidation_0-rmse:0.84390\n",
      "[2]\tvalidation_0-rmse:0.82103\n",
      "[3]\tvalidation_0-rmse:0.78856\n",
      "[4]\tvalidation_0-rmse:0.79333\n",
      "[5]\tvalidation_0-rmse:0.79001\n",
      "[6]\tvalidation_0-rmse:0.78563\n",
      "[7]\tvalidation_0-rmse:0.78487\n",
      "[8]\tvalidation_0-rmse:0.79711\n",
      "[9]\tvalidation_0-rmse:0.79707\n",
      "[10]\tvalidation_0-rmse:0.79697\n",
      "[11]\tvalidation_0-rmse:0.80208\n",
      "[12]\tvalidation_0-rmse:0.80555\n",
      "[13]\tvalidation_0-rmse:0.80322\n",
      "[14]\tvalidation_0-rmse:0.80044\n",
      "[15]\tvalidation_0-rmse:0.80095\n",
      "[16]\tvalidation_0-rmse:0.80399\n"
     ]
    },
    {
     "data": {
      "text/plain": [
       "0.3536488447351329"
      ]
     },
     "execution_count": 12,
     "metadata": {},
     "output_type": "execute_result"
    }
   ],
   "source": [
    "early_stop = xgboost.callback.EarlyStopping(rounds=10)\n",
    "\n",
    "xgboost_model = xgboost.XGBRegressor(tree_method=\"hist\", callbacks=[early_stop])\n",
    "xgboost_model.fit(X_train, y_train, eval_set=[(X_val, y_val)])\n",
    "\n",
    "xgboost_model.score(X_test, y_test)"
   ]
  },
  {
   "cell_type": "code",
   "execution_count": null,
   "metadata": {},
   "outputs": [],
   "source": []
  }
 ],
 "metadata": {
  "kernelspec": {
   "display_name": "venv",
   "language": "python",
   "name": "python3"
  },
  "language_info": {
   "codemirror_mode": {
    "name": "ipython",
    "version": 3
   },
   "file_extension": ".py",
   "mimetype": "text/x-python",
   "name": "python",
   "nbconvert_exporter": "python",
   "pygments_lexer": "ipython3",
   "version": "3.12.2"
  }
 },
 "nbformat": 4,
 "nbformat_minor": 2
}
